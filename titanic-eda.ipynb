{
 "cells": [
  {
   "cell_type": "code",
   "execution_count": 1,
   "metadata": {
    "_cell_guid": "b1076dfc-b9ad-4769-8c92-a6c4dae69d19",
    "_uuid": "8f2839f25d086af736a60e9eeb907d3b93b6e0e5"
   },
   "outputs": [],
   "source": [
    "# This Python 3 environment comes with many helpful analytics libraries installed\n",
    "# It is defined by the kaggle/python Docker image: https://github.com/kaggle/docker-python\n",
    "# For example, here's several helpful packages to load\n",
    "\n",
    "import numpy as np # linear algebra\n",
    "import pandas as pd # data processing, CSV file I/O (e.g. pd.read_csv)\n",
    "\n",
    "# Input data files are available in the read-only \"../input/\" directory\n",
    "# For example, running this (by clicking run or pressing Shift+Enter) will list all files under the input directory\n",
    "\n",
    "import os\n",
    "for dirname, _, filenames in os.walk('/kaggle/input'):\n",
    "    for filename in filenames:\n",
    "        print(os.path.join(dirname, filename))\n",
    "\n",
    "# You can write up to 5GB to the current directory (/kaggle/working/) that gets preserved as output when you create a version using \"Save & Run All\" \n",
    "# You can also write temporary files to /kaggle/temp/, but they won't be saved outside of the current session"
   ]
  },
  {
   "cell_type": "markdown",
   "metadata": {},
   "source": [
    "Load training and test data"
   ]
  },
  {
   "cell_type": "code",
   "execution_count": 2,
   "metadata": {},
   "outputs": [
    {
     "data": {
      "text/html": [
       "<div>\n",
       "<style scoped>\n",
       "    .dataframe tbody tr th:only-of-type {\n",
       "        vertical-align: middle;\n",
       "    }\n",
       "\n",
       "    .dataframe tbody tr th {\n",
       "        vertical-align: top;\n",
       "    }\n",
       "\n",
       "    .dataframe thead th {\n",
       "        text-align: right;\n",
       "    }\n",
       "</style>\n",
       "<table border=\"1\" class=\"dataframe\">\n",
       "  <thead>\n",
       "    <tr style=\"text-align: right;\">\n",
       "      <th></th>\n",
       "      <th>PassengerId</th>\n",
       "      <th>Survived</th>\n",
       "      <th>Pclass</th>\n",
       "      <th>Name</th>\n",
       "      <th>Sex</th>\n",
       "      <th>Age</th>\n",
       "      <th>SibSp</th>\n",
       "      <th>Parch</th>\n",
       "      <th>Ticket</th>\n",
       "      <th>Fare</th>\n",
       "      <th>Cabin</th>\n",
       "      <th>Embarked</th>\n",
       "    </tr>\n",
       "  </thead>\n",
       "  <tbody>\n",
       "    <tr>\n",
       "      <th>0</th>\n",
       "      <td>1</td>\n",
       "      <td>0</td>\n",
       "      <td>3</td>\n",
       "      <td>Braund, Mr. Owen Harris</td>\n",
       "      <td>male</td>\n",
       "      <td>22.0</td>\n",
       "      <td>1</td>\n",
       "      <td>0</td>\n",
       "      <td>A/5 21171</td>\n",
       "      <td>7.2500</td>\n",
       "      <td>NaN</td>\n",
       "      <td>S</td>\n",
       "    </tr>\n",
       "    <tr>\n",
       "      <th>1</th>\n",
       "      <td>2</td>\n",
       "      <td>1</td>\n",
       "      <td>1</td>\n",
       "      <td>Cumings, Mrs. John Bradley (Florence Briggs Th...</td>\n",
       "      <td>female</td>\n",
       "      <td>38.0</td>\n",
       "      <td>1</td>\n",
       "      <td>0</td>\n",
       "      <td>PC 17599</td>\n",
       "      <td>71.2833</td>\n",
       "      <td>C85</td>\n",
       "      <td>C</td>\n",
       "    </tr>\n",
       "    <tr>\n",
       "      <th>2</th>\n",
       "      <td>3</td>\n",
       "      <td>1</td>\n",
       "      <td>3</td>\n",
       "      <td>Heikkinen, Miss. Laina</td>\n",
       "      <td>female</td>\n",
       "      <td>26.0</td>\n",
       "      <td>0</td>\n",
       "      <td>0</td>\n",
       "      <td>STON/O2. 3101282</td>\n",
       "      <td>7.9250</td>\n",
       "      <td>NaN</td>\n",
       "      <td>S</td>\n",
       "    </tr>\n",
       "    <tr>\n",
       "      <th>3</th>\n",
       "      <td>4</td>\n",
       "      <td>1</td>\n",
       "      <td>1</td>\n",
       "      <td>Futrelle, Mrs. Jacques Heath (Lily May Peel)</td>\n",
       "      <td>female</td>\n",
       "      <td>35.0</td>\n",
       "      <td>1</td>\n",
       "      <td>0</td>\n",
       "      <td>113803</td>\n",
       "      <td>53.1000</td>\n",
       "      <td>C123</td>\n",
       "      <td>S</td>\n",
       "    </tr>\n",
       "    <tr>\n",
       "      <th>4</th>\n",
       "      <td>5</td>\n",
       "      <td>0</td>\n",
       "      <td>3</td>\n",
       "      <td>Allen, Mr. William Henry</td>\n",
       "      <td>male</td>\n",
       "      <td>35.0</td>\n",
       "      <td>0</td>\n",
       "      <td>0</td>\n",
       "      <td>373450</td>\n",
       "      <td>8.0500</td>\n",
       "      <td>NaN</td>\n",
       "      <td>S</td>\n",
       "    </tr>\n",
       "  </tbody>\n",
       "</table>\n",
       "</div>"
      ],
      "text/plain": [
       "   PassengerId  Survived  Pclass  \\\n",
       "0            1         0       3   \n",
       "1            2         1       1   \n",
       "2            3         1       3   \n",
       "3            4         1       1   \n",
       "4            5         0       3   \n",
       "\n",
       "                                                Name     Sex   Age  SibSp  \\\n",
       "0                            Braund, Mr. Owen Harris    male  22.0      1   \n",
       "1  Cumings, Mrs. John Bradley (Florence Briggs Th...  female  38.0      1   \n",
       "2                             Heikkinen, Miss. Laina  female  26.0      0   \n",
       "3       Futrelle, Mrs. Jacques Heath (Lily May Peel)  female  35.0      1   \n",
       "4                           Allen, Mr. William Henry    male  35.0      0   \n",
       "\n",
       "   Parch            Ticket     Fare Cabin Embarked  \n",
       "0      0         A/5 21171   7.2500   NaN        S  \n",
       "1      0          PC 17599  71.2833   C85        C  \n",
       "2      0  STON/O2. 3101282   7.9250   NaN        S  \n",
       "3      0            113803  53.1000  C123        S  \n",
       "4      0            373450   8.0500   NaN        S  "
      ]
     },
     "execution_count": 2,
     "metadata": {},
     "output_type": "execute_result"
    }
   ],
   "source": [
    "training = pd.read_csv('data/train.csv')\n",
    "training.head()"
   ]
  },
  {
   "cell_type": "code",
   "execution_count": 3,
   "metadata": {},
   "outputs": [
    {
     "data": {
      "text/html": [
       "<div>\n",
       "<style scoped>\n",
       "    .dataframe tbody tr th:only-of-type {\n",
       "        vertical-align: middle;\n",
       "    }\n",
       "\n",
       "    .dataframe tbody tr th {\n",
       "        vertical-align: top;\n",
       "    }\n",
       "\n",
       "    .dataframe thead th {\n",
       "        text-align: right;\n",
       "    }\n",
       "</style>\n",
       "<table border=\"1\" class=\"dataframe\">\n",
       "  <thead>\n",
       "    <tr style=\"text-align: right;\">\n",
       "      <th></th>\n",
       "      <th>PassengerId</th>\n",
       "      <th>Pclass</th>\n",
       "      <th>Name</th>\n",
       "      <th>Sex</th>\n",
       "      <th>Age</th>\n",
       "      <th>SibSp</th>\n",
       "      <th>Parch</th>\n",
       "      <th>Ticket</th>\n",
       "      <th>Fare</th>\n",
       "      <th>Cabin</th>\n",
       "      <th>Embarked</th>\n",
       "    </tr>\n",
       "  </thead>\n",
       "  <tbody>\n",
       "    <tr>\n",
       "      <th>0</th>\n",
       "      <td>892</td>\n",
       "      <td>3</td>\n",
       "      <td>Kelly, Mr. James</td>\n",
       "      <td>male</td>\n",
       "      <td>34.5</td>\n",
       "      <td>0</td>\n",
       "      <td>0</td>\n",
       "      <td>330911</td>\n",
       "      <td>7.8292</td>\n",
       "      <td>NaN</td>\n",
       "      <td>Q</td>\n",
       "    </tr>\n",
       "    <tr>\n",
       "      <th>1</th>\n",
       "      <td>893</td>\n",
       "      <td>3</td>\n",
       "      <td>Wilkes, Mrs. James (Ellen Needs)</td>\n",
       "      <td>female</td>\n",
       "      <td>47.0</td>\n",
       "      <td>1</td>\n",
       "      <td>0</td>\n",
       "      <td>363272</td>\n",
       "      <td>7.0000</td>\n",
       "      <td>NaN</td>\n",
       "      <td>S</td>\n",
       "    </tr>\n",
       "    <tr>\n",
       "      <th>2</th>\n",
       "      <td>894</td>\n",
       "      <td>2</td>\n",
       "      <td>Myles, Mr. Thomas Francis</td>\n",
       "      <td>male</td>\n",
       "      <td>62.0</td>\n",
       "      <td>0</td>\n",
       "      <td>0</td>\n",
       "      <td>240276</td>\n",
       "      <td>9.6875</td>\n",
       "      <td>NaN</td>\n",
       "      <td>Q</td>\n",
       "    </tr>\n",
       "    <tr>\n",
       "      <th>3</th>\n",
       "      <td>895</td>\n",
       "      <td>3</td>\n",
       "      <td>Wirz, Mr. Albert</td>\n",
       "      <td>male</td>\n",
       "      <td>27.0</td>\n",
       "      <td>0</td>\n",
       "      <td>0</td>\n",
       "      <td>315154</td>\n",
       "      <td>8.6625</td>\n",
       "      <td>NaN</td>\n",
       "      <td>S</td>\n",
       "    </tr>\n",
       "    <tr>\n",
       "      <th>4</th>\n",
       "      <td>896</td>\n",
       "      <td>3</td>\n",
       "      <td>Hirvonen, Mrs. Alexander (Helga E Lindqvist)</td>\n",
       "      <td>female</td>\n",
       "      <td>22.0</td>\n",
       "      <td>1</td>\n",
       "      <td>1</td>\n",
       "      <td>3101298</td>\n",
       "      <td>12.2875</td>\n",
       "      <td>NaN</td>\n",
       "      <td>S</td>\n",
       "    </tr>\n",
       "  </tbody>\n",
       "</table>\n",
       "</div>"
      ],
      "text/plain": [
       "   PassengerId  Pclass                                          Name     Sex  \\\n",
       "0          892       3                              Kelly, Mr. James    male   \n",
       "1          893       3              Wilkes, Mrs. James (Ellen Needs)  female   \n",
       "2          894       2                     Myles, Mr. Thomas Francis    male   \n",
       "3          895       3                              Wirz, Mr. Albert    male   \n",
       "4          896       3  Hirvonen, Mrs. Alexander (Helga E Lindqvist)  female   \n",
       "\n",
       "    Age  SibSp  Parch   Ticket     Fare Cabin Embarked  \n",
       "0  34.5      0      0   330911   7.8292   NaN        Q  \n",
       "1  47.0      1      0   363272   7.0000   NaN        S  \n",
       "2  62.0      0      0   240276   9.6875   NaN        Q  \n",
       "3  27.0      0      0   315154   8.6625   NaN        S  \n",
       "4  22.0      1      1  3101298  12.2875   NaN        S  "
      ]
     },
     "execution_count": 3,
     "metadata": {},
     "output_type": "execute_result"
    }
   ],
   "source": [
    "testing = pd.read_csv('data/test.csv')\n",
    "testing.head()"
   ]
  },
  {
   "cell_type": "markdown",
   "metadata": {},
   "source": [
    "Check % of survivors by gender"
   ]
  },
  {
   "cell_type": "code",
   "execution_count": 4,
   "metadata": {},
   "outputs": [
    {
     "name": "stdout",
     "output_type": "stream",
     "text": [
      "0.7420382165605095 % of women survived\n"
     ]
    }
   ],
   "source": [
    "women = training.loc[training.Sex == 'female']['Survived']\n",
    "rate_women = sum(women)/len(women)\n",
    "print(rate_women, \"% of women survived\")"
   ]
  },
  {
   "cell_type": "code",
   "execution_count": 5,
   "metadata": {},
   "outputs": [
    {
     "name": "stdout",
     "output_type": "stream",
     "text": [
      "0.18890814558058924 % of men survived\n"
     ]
    }
   ],
   "source": [
    "men = training.loc[training.Sex == 'male']['Survived']\n",
    "rate_men = sum(men)/len(men)\n",
    "print(rate_men, \"% of men survived\")"
   ]
  },
  {
   "cell_type": "markdown",
   "metadata": {},
   "source": [
    "Random Forest Model"
   ]
  },
  {
   "cell_type": "code",
   "execution_count": 6,
   "metadata": {},
   "outputs": [
    {
     "name": "stdout",
     "output_type": "stream",
     "text": [
      "lines commented for future submission\n"
     ]
    }
   ],
   "source": [
    "#from sklearn.ensemble import RandomForestClassifier\n",
    "\n",
    "#y = training[\"Survived\"]\n",
    "\n",
    "#features = [\"Pclass\", \"Sex\", \"SibSp\", \"Parch\"]\n",
    "#X = pd.get_dummies(training[features])\n",
    "#X_test = pd.get_dummies(testing[features])\n",
    "\n",
    "#model = RandomForestClassifier(n_estimators=100, max_depth=5, random_state=1)\n",
    "#model.fit(X, y)\n",
    "#predictions = model.predict(X_test)\n",
    "\n",
    "#output = pd.DataFrame({'PassengerId': testing.PassengerId, 'Survived': predictions})\n",
    "#output.to_csv('my_submission.csv', index=False)\n",
    "#print(\"Your submission was successfully saved!\")\n",
    "print(\"lines commented for future submission\")"
   ]
  },
  {
   "cell_type": "markdown",
   "metadata": {},
   "source": [
    "The above code results in 75% correct predictions.  Looking through the given dataset some basic EDA could be done to increase the accuracy.  There are a lot of missing values.  Additionally it might help to figure out names in a family."
   ]
  },
  {
   "cell_type": "markdown",
   "metadata": {},
   "source": [
    "In order to refine results I start following the https://www.kaggle.com/allohvk/captivating-conversations-with-the-titanic-dataset guide which gives insight into techniques to improve the fit."
   ]
  },
  {
   "cell_type": "code",
   "execution_count": 7,
   "metadata": {},
   "outputs": [
    {
     "name": "stdout",
     "output_type": "stream",
     "text": [
      "<class 'pandas.core.frame.DataFrame'>\n",
      "RangeIndex: 891 entries, 0 to 890\n",
      "Data columns (total 12 columns):\n",
      " #   Column       Non-Null Count  Dtype  \n",
      "---  ------       --------------  -----  \n",
      " 0   PassengerId  891 non-null    int64  \n",
      " 1   Survived     891 non-null    int64  \n",
      " 2   Pclass       891 non-null    int64  \n",
      " 3   Name         891 non-null    object \n",
      " 4   Sex          891 non-null    object \n",
      " 5   Age          714 non-null    float64\n",
      " 6   SibSp        891 non-null    int64  \n",
      " 7   Parch        891 non-null    int64  \n",
      " 8   Ticket       891 non-null    object \n",
      " 9   Fare         891 non-null    float64\n",
      " 10  Cabin        204 non-null    object \n",
      " 11  Embarked     889 non-null    object \n",
      "dtypes: float64(2), int64(5), object(5)\n",
      "memory usage: 83.7+ KB\n"
     ]
    }
   ],
   "source": [
    "training.info()\n",
    "#This line reveals that the age, cabin, and embarked fields are missing values.  The age column in particular is missing many values."
   ]
  },
  {
   "cell_type": "code",
   "execution_count": 8,
   "metadata": {},
   "outputs": [
    {
     "name": "stdout",
     "output_type": "stream",
     "text": [
      "<class 'pandas.core.frame.DataFrame'>\n",
      "RangeIndex: 418 entries, 0 to 417\n",
      "Data columns (total 11 columns):\n",
      " #   Column       Non-Null Count  Dtype  \n",
      "---  ------       --------------  -----  \n",
      " 0   PassengerId  418 non-null    int64  \n",
      " 1   Pclass       418 non-null    int64  \n",
      " 2   Name         418 non-null    object \n",
      " 3   Sex          418 non-null    object \n",
      " 4   Age          332 non-null    float64\n",
      " 5   SibSp        418 non-null    int64  \n",
      " 6   Parch        418 non-null    int64  \n",
      " 7   Ticket       418 non-null    object \n",
      " 8   Fare         417 non-null    float64\n",
      " 9   Cabin        91 non-null     object \n",
      " 10  Embarked     418 non-null    object \n",
      "dtypes: float64(2), int64(4), object(5)\n",
      "memory usage: 36.0+ KB\n"
     ]
    }
   ],
   "source": [
    "testing.info()"
   ]
  },
  {
   "cell_type": "markdown",
   "metadata": {},
   "source": [
    "Find the number of passengers in each class and then a percentage of each class that survived"
   ]
  },
  {
   "cell_type": "code",
   "execution_count": 9,
   "metadata": {},
   "outputs": [
    {
     "name": "stdout",
     "output_type": "stream",
     "text": [
      "        PassengerId  Survived  Name  Sex  Age  SibSp  Parch  Ticket  Fare  \\\n",
      "Pclass                                                                      \n",
      "1               216       216   216  216  186    216    216     216   216   \n",
      "2               184       184   184  184  173    184    184     184   184   \n",
      "3               491       491   491  491  355    491    491     491   491   \n",
      "\n",
      "        Cabin  Embarked  \n",
      "Pclass                   \n",
      "1         176       214  \n",
      "2          16       184  \n",
      "3          12       491  \n",
      "\n",
      "*****************************\n",
      "         Survived\n",
      "Pclass          \n",
      "1       0.629630\n",
      "2       0.472826\n",
      "3       0.242363\n"
     ]
    }
   ],
   "source": [
    "global blankline\n",
    "blankline = '\\n*****************************\\n'\n",
    "print(training.groupby('Pclass').count())\n",
    "print(blankline, training [['Pclass','Survived']].groupby('Pclass').mean())"
   ]
  },
  {
   "cell_type": "markdown",
   "metadata": {},
   "source": [
    "This shows that first class passengers had the highest survival rate by a large margin.\n",
    "We already know approximately 74% of female passengers survived but let's check survival by gender and ticket class."
   ]
  },
  {
   "cell_type": "code",
   "execution_count": 10,
   "metadata": {},
   "outputs": [
    {
     "name": "stdout",
     "output_type": "stream",
     "text": [
      "               Survived\n",
      "Pclass Sex             \n",
      "1      female      96.8\n",
      "       male        36.9\n",
      "2      female      92.1\n",
      "       male        15.7\n",
      "3      female      50.0\n",
      "       male        13.5\n"
     ]
    }
   ],
   "source": [
    "print(round(training [['Sex', 'Pclass','Survived']].\\\n",
    "                       groupby(['Pclass', 'Sex']).mean()*100,1))"
   ]
  },
  {
   "cell_type": "markdown",
   "metadata": {},
   "source": [
    "First and second class females had a very high chance of survival compared to any other group.\n",
    "Next a few visualizations would be helpful in understanding different relationships in the data.\n",
    "The first graph will visualize how age affects survival rates"
   ]
  },
  {
   "cell_type": "code",
   "execution_count": 11,
   "metadata": {},
   "outputs": [
    {
     "name": "stdout",
     "output_type": "stream",
     "text": [
      "AxesSubplot(0.125,0.125;0.775x0.755)\n"
     ]
    },
    {
     "data": {
      "image/png": "[encoded data removed]",
      "text/plain": [
       "<Figure size 432x288 with 1 Axes>"
      ]
     },
     "metadata": {
      "needs_background": "light"
     },
     "output_type": "display_data"
    }
   ],
   "source": [
    "import seaborn as sns\n",
    "import matplotlib.pyplot as plt\n",
    "print(training['Age'].plot(kind='hist',bins=10))"
   ]
  },
  {
   "cell_type": "markdown",
   "metadata": {},
   "source": [
    "Knowing females were more likely to survive than males it is important to know the age distribution by gender as well."
   ]
  },
  {
   "cell_type": "code",
   "execution_count": 12,
   "metadata": {},
   "outputs": [
    {
     "data": {
      "text/plain": [
       "<AxesSubplot:xlabel='Age', ylabel='Density'>"
      ]
     },
     "execution_count": 12,
     "metadata": {},
     "output_type": "execute_result"
    },
    {
     "data": {
      "image/png": "[encoded data removed]",
      "text/plain": [
       "<Figure size 432x288 with 1 Axes>"
      ]
     },
     "metadata": {
      "needs_background": "light"
     },
     "output_type": "display_data"
    }
   ],
   "source": [
    "plt.figure()\n",
    "sns.kdeplot(training[training.Sex=='female']['Age'], color=\"green\")\n",
    "sns.kdeplot(training[training.Sex=='male']['Age'], color=\"red\", shade=True)"
   ]
  },
  {
   "cell_type": "markdown",
   "metadata": {},
   "source": [
    "This graph shows young people are more likely to survive and young females are especially likely to survive.  Next it will be helpful to break up the data by passenger class.  To do this we can use a violin plot of age and p-class.  Green represents survival while red is death."
   ]
  },
  {
   "cell_type": "code",
   "execution_count": 13,
   "metadata": {},
   "outputs": [
    {
     "data": {
      "image/png": "[encoded data removed]",
      "text/plain": [
       "<Figure size 432x288 with 1 Axes>"
      ]
     },
     "metadata": {
      "needs_background": "light"
     },
     "output_type": "display_data"
    }
   ],
   "source": [
    "plt.figure() \n",
    "sns.violinplot(x='Pclass', y='Age', hue='Survived', split=True ,data=training, palette={0: \"r\", 1: \"g\"});"
   ]
  },
  {
   "cell_type": "markdown",
   "metadata": {},
   "source": [
    "This graph is gives us an interesting understanding of survival rates based on age and ticket class.  "
   ]
  },
  {
   "cell_type": "code",
   "execution_count": 14,
   "metadata": {},
   "outputs": [
    {
     "name": "stdout",
     "output_type": "stream",
     "text": [
      "Pclass 1 survivors above Age 60: 29.4 %\n",
      "Pclass 2 survivors above Age 60: 25.0 %\n",
      "Pclass 3 survivors above Age 60: 20.0 %\n",
      "Pclass1 survivors between 20-30 Age: 72.5 %\n",
      "Pclass2 survivors between 20-30 Age: 41.0 %\n",
      "Pclass3 survivors between 20-30 Age: 22.6 %\n"
     ]
    }
   ],
   "source": [
    "print('Pclass 1 survivors above Age 60:', round(len(training[(training['Pclass']==1) & \\\n",
    "    (training['Age']>59) & (training['Survived']==True)])/len(training[(training\\\n",
    "    ['Pclass']==1) & (training['Age']>59)])*100,1), '%')\n",
    "print('Pclass 2 survivors above Age 60:', round(len(training[(training['Pclass']==2) & \\\n",
    "    (training['Age']>59) & (training['Survived']==True)])/len(training[(training \\\n",
    "    ['Pclass']==2) & (training['Age']>59)])*100,1), '%')\n",
    "print('Pclass 3 survivors above Age 60:', round(len(training[(training['Pclass']==3) & \\\n",
    "    (training['Age']>59) & (training['Survived']==True)])/len(training[(training \\\n",
    "    ['Pclass']==3) & (training['Age']>59)])*100,1), '%')\n",
    "\n",
    "print('Pclass1 survivors between 20-30 Age:',round(len(training[(training['Pclass']==1) \\\n",
    "    &(training['Age']>19) & (training['Age']<31) & (training['Survived']==True)])/len( \\\n",
    "    training[(training['Pclass']==1) & (training['Age']>19) \\\n",
    "    & (training['Age']<31)])*100,1),'%')\n",
    "print('Pclass2 survivors between 20-30 Age:',round(len(training[(training['Pclass']==2) \\\n",
    "    &(training['Age']>19) & (training['Age']<31) &(training['Survived']==True)])/len( \\\n",
    "    training[(training['Pclass']==2)&(training['Age']>19) \\\n",
    "    &(training['Age']<31)])*100,1),'%')\n",
    "print('Pclass3 survivors between 20-30 Age:',round(len(training[(training['Pclass']==3) \\\n",
    "    &(training['Age']>19) & (training['Age']<31) &(training['Survived']==True)])/len( \\\n",
    "    training[(training['Pclass']==3) & (training['Age']>19) \\\n",
    "    &(training['Age']<31)])*100,1),'%')"
   ]
  },
  {
   "cell_type": "markdown",
   "metadata": {},
   "source": [
    "This shows the previous breakdown a little more efficiently demonstrating that first class individuals are very likely to live especially if between the ages of 20-30.  Generally all passengers between 20-30 are more likely to survive than older individuals within their age group."
   ]
  },
  {
   "cell_type": "markdown",
   "metadata": {},
   "source": [
    "Next it is helpful to expand on the previous graphs and explore the survivors in each age range categorized by gender.  While it is safe to assume more females will survive in each class it might be helpful to know to what degree."
   ]
  },
  {
   "cell_type": "code",
   "execution_count": 15,
   "metadata": {},
   "outputs": [
    {
     "data": {
      "text/plain": [
       "<AxesSubplot:xlabel='PclassSex', ylabel='Age'>"
      ]
     },
     "execution_count": 15,
     "metadata": {},
     "output_type": "execute_result"
    },
    {
     "data": {
      "image/png": "[encoded data removed]",
      "text/plain": [
       "<Figure size 1080x576 with 1 Axes>"
      ]
     },
     "metadata": {
      "needs_background": "light"
     },
     "output_type": "display_data"
    }
   ],
   "source": [
    "training['PclassSex'] = training['Pclass'].astype(str) + training['Sex'] \n",
    "\n",
    "\n",
    "plt.figure(figsize=(15,8))  \n",
    "\n",
    "sns.violinplot(x='PclassSex', y='Age', hue='Survived', split=True,data=training, cut=0, \\\n",
    "    palette={0: \"r\", 1: \"g\"}, order=['1male','2male','3male', '1female', '2female', '3female'])"
   ]
  },
  {
   "cell_type": "markdown",
   "metadata": {},
   "source": [
    "What this shows is that class 1 females are very likely to survive regardless of age, although being between 20 and 40 is still helpful.  Class 1 males between 20 and 50 seem just as likely to survive as they are to die.  Class 2 males have almost no chance of surviving unless under 10, and class 3 males and females have similar distributions. What is really notable is the difference in pclass 2 and 3 male survival rates in this violin plot.  Let's dissect this quickly."
   ]
  },
  {
   "cell_type": "code",
   "execution_count": 16,
   "metadata": {},
   "outputs": [
    {
     "name": "stdout",
     "output_type": "stream",
     "text": [
      "Pclass 2 adult male survivors: 6.2 %\n",
      "Pclass 3 adult male survivors: 13.7 %\n"
     ]
    }
   ],
   "source": [
    "print('Pclass 2 adult male survivors:',round(len(training[(training['Pclass']==2) & \\\n",
    "        (training['Age']>19) & (training['Sex']=='male') & (training['Survived'] \\\n",
    "        == True)])/len(training[(training['Pclass']==2) & (training['Age']>19) & \\\n",
    "        (training['Sex']=='male')])*100,1),'%')\n",
    "\n",
    "print('Pclass 3 adult male survivors:',round(len(training[(training['Pclass']==3) & \\\n",
    "        (training['Age']>19) & (training['Sex']=='male') & (training['Survived'] \\\n",
    "        == True)])/len(training[(training['Pclass']==3) & (training['Age']>19) & \\\n",
    "        (training['Sex']=='male')])*100,1),'%')"
   ]
  },
  {
   "cell_type": "markdown",
   "metadata": {},
   "source": [
    "The fact that male survival rates in third class are twice as high as in second class is very interesting.\n",
    "The next category to investigate is the embarked column."
   ]
  },
  {
   "cell_type": "code",
   "execution_count": 17,
   "metadata": {},
   "outputs": [
    {
     "data": {
      "text/plain": [
       "<seaborn.axisgrid.FacetGrid at 0x1d7f16409a0>"
      ]
     },
     "execution_count": 17,
     "metadata": {},
     "output_type": "execute_result"
    },
    {
     "data": {
      "text/plain": [
       "<Figure size 432x288 with 0 Axes>"
      ]
     },
     "metadata": {},
     "output_type": "display_data"
    },
    {
     "data": {
      "image/png": "[encoded data removed]",
      "text/plain": [
       "<Figure size 502.5x648 with 3 Axes>"
      ]
     },
     "metadata": {
      "needs_background": "light"
     },
     "output_type": "display_data"
    }
   ],
   "source": [
    "plt.figure()\n",
    "fg = sns.FacetGrid(training, row='Embarked', aspect=2)\n",
    "fg.map(sns.pointplot, 'Pclass', 'Survived', 'Sex', \\\n",
    "       hue_order=['female', 'male'], order=[1,2,3], palette={'female': \"r\", 'male': \"g\"})\n",
    "fg.add_legend()"
   ]
  },
  {
   "cell_type": "markdown",
   "metadata": {},
   "source": [
    "Survival rates seem fairly consistent across embarked ports.\n",
    "The next category to consider is fare."
   ]
  },
  {
   "cell_type": "code",
   "execution_count": 18,
   "metadata": {},
   "outputs": [
    {
     "name": "stdout",
     "output_type": "stream",
     "text": [
      "count    891.000000\n",
      "mean      32.204208\n",
      "std       49.693429\n",
      "min        0.000000\n",
      "25%        7.910400\n",
      "50%       14.454200\n",
      "75%       31.000000\n",
      "max      512.329200\n",
      "Name: Fare, dtype: float64\n"
     ]
    }
   ],
   "source": [
    "print(training['Fare'].describe())"
   ]
  },
  {
   "cell_type": "markdown",
   "metadata": {},
   "source": [
    "There are people on the boat who did not pay a fare."
   ]
  },
  {
   "cell_type": "code",
   "execution_count": 19,
   "metadata": {},
   "outputs": [
    {
     "name": "stdout",
     "output_type": "stream",
     "text": [
      "     PassengerId  Survived  Pclass                              Name   Sex  \\\n",
      "179          180         0       3               Leonard, Mr. Lionel  male   \n",
      "263          264         0       1             Harrison, Mr. William  male   \n",
      "271          272         1       3      Tornquist, Mr. William Henry  male   \n",
      "277          278         0       2       Parkes, Mr. Francis \"Frank\"  male   \n",
      "302          303         0       3   Johnson, Mr. William Cahoone Jr  male   \n",
      "413          414         0       2    Cunningham, Mr. Alfred Fleming  male   \n",
      "466          467         0       2             Campbell, Mr. William  male   \n",
      "481          482         0       2  Frost, Mr. Anthony Wood \"Archie\"  male   \n",
      "597          598         0       3               Johnson, Mr. Alfred  male   \n",
      "633          634         0       1     Parr, Mr. William Henry Marsh  male   \n",
      "674          675         0       2        Watson, Mr. Ennis Hastings  male   \n",
      "732          733         0       2              Knight, Mr. Robert J  male   \n",
      "806          807         0       1            Andrews, Mr. Thomas Jr  male   \n",
      "815          816         0       1                  Fry, Mr. Richard  male   \n",
      "822          823         0       1   Reuchlin, Jonkheer. John George  male   \n",
      "\n",
      "      Age  SibSp  Parch  Ticket  Fare Cabin Embarked PclassSex  \n",
      "179  36.0      0      0    LINE   0.0   NaN        S     3male  \n",
      "263  40.0      0      0  112059   0.0   B94        S     1male  \n",
      "271  25.0      0      0    LINE   0.0   NaN        S     3male  \n",
      "277   NaN      0      0  239853   0.0   NaN        S     2male  \n",
      "302  19.0      0      0    LINE   0.0   NaN        S     3male  \n",
      "413   NaN      0      0  239853   0.0   NaN        S     2male  \n",
      "466   NaN      0      0  239853   0.0   NaN        S     2male  \n",
      "481   NaN      0      0  239854   0.0   NaN        S     2male  \n",
      "597  49.0      0      0    LINE   0.0   NaN        S     3male  \n",
      "633   NaN      0      0  112052   0.0   NaN        S     1male  \n",
      "674   NaN      0      0  239856   0.0   NaN        S     2male  \n",
      "732   NaN      0      0  239855   0.0   NaN        S     2male  \n",
      "806  39.0      0      0  112050   0.0   A36        S     1male  \n",
      "815   NaN      0      0  112058   0.0  B102        S     1male  \n",
      "822  38.0      0      0   19972   0.0   NaN        S     1male  \n"
     ]
    }
   ],
   "source": [
    "print(training[(training['Fare']==0)])\n",
    "#these are noticably all middle age males so some of these are probably the cabin crew.  "
   ]
  },
  {
   "cell_type": "code",
   "execution_count": 20,
   "metadata": {},
   "outputs": [
    {
     "name": "stdout",
     "output_type": "stream",
     "text": [
      "        PassengerId  Survived  Name  Sex  Age  SibSp  Parch  Ticket  Fare  \\\n",
      "Pclass                                                                      \n",
      "1                 5         5     5    5    3      5      5       5     5   \n",
      "2                 6         6     6    6    0      6      6       6     6   \n",
      "3                 4         4     4    4    4      4      4       4     4   \n",
      "\n",
      "        Cabin  Embarked  PclassSex  \n",
      "Pclass                              \n",
      "1           3         5          5  \n",
      "2           0         6          6  \n",
      "3           0         4          4  \n",
      "               PassengerId  Survived  Name  Sex  Age  SibSp  Parch  Fare  \\\n",
      "Pclass Ticket                                                              \n",
      "1      112050            1         1     1    1    1      1      1     1   \n",
      "       112052            1         1     1    1    0      1      1     1   \n",
      "       112058            1         1     1    1    0      1      1     1   \n",
      "       112059            1         1     1    1    1      1      1     1   \n",
      "       19972             1         1     1    1    1      1      1     1   \n",
      "2      239853            3         3     3    3    0      3      3     3   \n",
      "       239854            1         1     1    1    0      1      1     1   \n",
      "       239855            1         1     1    1    0      1      1     1   \n",
      "       239856            1         1     1    1    0      1      1     1   \n",
      "3      LINE              4         4     4    4    4      4      4     4   \n",
      "\n",
      "               Cabin  Embarked  PclassSex  \n",
      "Pclass Ticket                              \n",
      "1      112050      1         1          1  \n",
      "       112052      0         1          1  \n",
      "       112058      1         1          1  \n",
      "       112059      1         1          1  \n",
      "       19972       0         1          1  \n",
      "2      239853      0         3          3  \n",
      "       239854      0         1          1  \n",
      "       239855      0         1          1  \n",
      "       239856      0         1          1  \n",
      "3      LINE        0         4          4  \n"
     ]
    }
   ],
   "source": [
    "print(training[(training['Fare']==0)].groupby('Pclass').agg('count'))\n",
    "#This shows there are 0 cost fares in each pclass\n",
    "\n",
    "print(training[(training['Fare']==0)].groupby(['Pclass', 'Ticket']).agg('count'))\n",
    "#All pclass 3 costless tickets have the ticket number LINE which is probably the cabin crew with pclass 3.\n",
    "#There are missing age values that will need filled and the rest of the fare = 0 should be treated as missing data.\n"
   ]
  },
  {
   "cell_type": "code",
   "execution_count": 21,
   "metadata": {},
   "outputs": [
    {
     "name": "stdout",
     "output_type": "stream",
     "text": [
      "23 \n",
      "*****************************\n",
      "\n",
      "PassengerId    525.043478\n",
      "Survived         0.043478\n",
      "Pclass           2.913043\n",
      "Age             30.825000\n",
      "SibSp            0.130435\n",
      "Parch            0.000000\n",
      "Fare             6.647461\n",
      "dtype: float64 \n",
      "*****************************\n",
      "\n",
      "PassengerId    455.515850\n",
      "Survived         0.135447\n",
      "Pclass           3.000000\n",
      "Age             26.507589\n",
      "SibSp            0.498559\n",
      "Parch            0.224784\n",
      "Fare            12.661633\n",
      "dtype: float64 \n",
      "*****************************\n",
      "\n",
      "     PassengerId  Survived  Pclass                             Name     Sex  \\\n",
      "780          781         1       3             Ayoub, Miss. Banoura  female   \n",
      "803          804         1       3  Thomas, Master. Assad Alexander    male   \n",
      "\n",
      "       Age  SibSp  Parch Ticket    Fare Cabin Embarked PclassSex  \n",
      "780  13.00      0      0   2687  7.2292   NaN        C   3female  \n",
      "803   0.42      0      1   2625  8.5167   NaN        C     3male  \n",
      "311\n",
      "71\n",
      "10\n",
      "99\n"
     ]
    },
    {
     "data": {
      "image/png": "[encoded data removed]",
      "text/plain": [
       "<Figure size 432x288 with 1 Axes>"
      ]
     },
     "metadata": {
      "needs_background": "light"
     },
     "output_type": "display_data"
    }
   ],
   "source": [
    "plt.hist([training[training['Survived'] == 1]['Fare'], training[training['Survived'] == 0]['Fare']],\n",
    "stacked=True, color = ['g','r'], bins = 50, label = ['Survived','Dead'])\n",
    "plt.xlabel('Fare')\n",
    "plt.ylabel('Number of passengers')\n",
    "plt.legend();\n",
    "\n",
    "#This histogram of fare survival rates demonstrates that higher fares provide higher survival rates, but pclass already shows this well\n",
    "#It might help to expand on the low fare category\n",
    "\n",
    "print(len(training[(training['Fare']<7.1) & (training['Fare']>0)]), blankline)\n",
    "print(training[(training['Fare']<7.1) & (training['Fare']>0)].agg('mean'), blankline)\n",
    "print(training[(training['Pclass']==3)&(training['Sex']=='male')].agg('mean'),blankline)\n",
    "\n",
    "#These 23 individuals had a 4.3% survival rate which is abnormally low when it should be around 13.5% as we saw earlier.\n",
    "#The age is also statistically significant and can be separated and investigated.  \n",
    "\n",
    "print(training[(training['Fare']<9)&(training['Age']<14)])\n",
    "print(len(training[(training['Fare']<9)]))\n",
    "print(len(training[(training['Age']<14)]))\n",
    "\n",
    "#Out of the 311 people with fare < 9 only 2 of them are children and the rest are amoung the rest of the passengers.\n",
    "#This means that any missing ages within the 311 low fare passengers belongs to an adult.  Let's narrow down what we can use to fill the ages.\n",
    "#First lets see how many people in the group are elderly and then how many of them are missing values.\n",
    "\n",
    "print(len(training[(training['Fare']<9)&(training['Age']>49)]))\n",
    "\n",
    "#10 people over the age of 49, which means the almost all low fare passengers are middle aged.\n",
    "\n",
    "print(len(training[(training['Fare']<9)&(training['Age'].isnull())]))\n",
    "\n",
    "#99 missing values in the group.  Since we've done this analysis we can fill these 99 ages more accurately than doing a generic calculation for all 177 missing age values."
   ]
  },
  {
   "cell_type": "markdown",
   "metadata": {},
   "source": [
    "Now we should determine if calculating a fare would be a good idea for the missing fare values."
   ]
  },
  {
   "cell_type": "code",
   "execution_count": 22,
   "metadata": {},
   "outputs": [
    {
     "data": {
      "text/html": [
       "<div>\n",
       "<style scoped>\n",
       "    .dataframe tbody tr th:only-of-type {\n",
       "        vertical-align: middle;\n",
       "    }\n",
       "\n",
       "    .dataframe tbody tr th {\n",
       "        vertical-align: top;\n",
       "    }\n",
       "\n",
       "    .dataframe thead th {\n",
       "        text-align: right;\n",
       "    }\n",
       "</style>\n",
       "<table border=\"1\" class=\"dataframe\">\n",
       "  <thead>\n",
       "    <tr style=\"text-align: right;\">\n",
       "      <th></th>\n",
       "      <th>PassengerId</th>\n",
       "      <th>Survived</th>\n",
       "      <th>Pclass</th>\n",
       "      <th>Name</th>\n",
       "      <th>Sex</th>\n",
       "      <th>Age</th>\n",
       "      <th>SibSp</th>\n",
       "      <th>Parch</th>\n",
       "      <th>Ticket</th>\n",
       "      <th>Fare</th>\n",
       "      <th>Cabin</th>\n",
       "      <th>Embarked</th>\n",
       "      <th>PclassSex</th>\n",
       "      <th>PeopleInTicket</th>\n",
       "      <th>FarePerPerson</th>\n",
       "      <th>FamilyCount</th>\n",
       "    </tr>\n",
       "  </thead>\n",
       "  <tbody>\n",
       "    <tr>\n",
       "      <th>0</th>\n",
       "      <td>1</td>\n",
       "      <td>0</td>\n",
       "      <td>3</td>\n",
       "      <td>Braund, Mr. Owen Harris</td>\n",
       "      <td>male</td>\n",
       "      <td>22.0</td>\n",
       "      <td>1</td>\n",
       "      <td>0</td>\n",
       "      <td>A/5 21171</td>\n",
       "      <td>7.2500</td>\n",
       "      <td>NaN</td>\n",
       "      <td>S</td>\n",
       "      <td>3male</td>\n",
       "      <td>1</td>\n",
       "      <td>7.25000</td>\n",
       "      <td>2</td>\n",
       "    </tr>\n",
       "    <tr>\n",
       "      <th>1</th>\n",
       "      <td>2</td>\n",
       "      <td>1</td>\n",
       "      <td>1</td>\n",
       "      <td>Cumings, Mrs. John Bradley (Florence Briggs Th...</td>\n",
       "      <td>female</td>\n",
       "      <td>38.0</td>\n",
       "      <td>1</td>\n",
       "      <td>0</td>\n",
       "      <td>PC 17599</td>\n",
       "      <td>71.2833</td>\n",
       "      <td>C85</td>\n",
       "      <td>C</td>\n",
       "      <td>1female</td>\n",
       "      <td>2</td>\n",
       "      <td>35.64165</td>\n",
       "      <td>2</td>\n",
       "    </tr>\n",
       "    <tr>\n",
       "      <th>2</th>\n",
       "      <td>3</td>\n",
       "      <td>1</td>\n",
       "      <td>3</td>\n",
       "      <td>Heikkinen, Miss. Laina</td>\n",
       "      <td>female</td>\n",
       "      <td>26.0</td>\n",
       "      <td>0</td>\n",
       "      <td>0</td>\n",
       "      <td>STON/O2. 3101282</td>\n",
       "      <td>7.9250</td>\n",
       "      <td>NaN</td>\n",
       "      <td>S</td>\n",
       "      <td>3female</td>\n",
       "      <td>1</td>\n",
       "      <td>7.92500</td>\n",
       "      <td>1</td>\n",
       "    </tr>\n",
       "    <tr>\n",
       "      <th>3</th>\n",
       "      <td>4</td>\n",
       "      <td>1</td>\n",
       "      <td>1</td>\n",
       "      <td>Futrelle, Mrs. Jacques Heath (Lily May Peel)</td>\n",
       "      <td>female</td>\n",
       "      <td>35.0</td>\n",
       "      <td>1</td>\n",
       "      <td>0</td>\n",
       "      <td>113803</td>\n",
       "      <td>53.1000</td>\n",
       "      <td>C123</td>\n",
       "      <td>S</td>\n",
       "      <td>1female</td>\n",
       "      <td>2</td>\n",
       "      <td>26.55000</td>\n",
       "      <td>2</td>\n",
       "    </tr>\n",
       "    <tr>\n",
       "      <th>4</th>\n",
       "      <td>5</td>\n",
       "      <td>0</td>\n",
       "      <td>3</td>\n",
       "      <td>Allen, Mr. William Henry</td>\n",
       "      <td>male</td>\n",
       "      <td>35.0</td>\n",
       "      <td>0</td>\n",
       "      <td>0</td>\n",
       "      <td>373450</td>\n",
       "      <td>8.0500</td>\n",
       "      <td>NaN</td>\n",
       "      <td>S</td>\n",
       "      <td>3male</td>\n",
       "      <td>1</td>\n",
       "      <td>8.05000</td>\n",
       "      <td>1</td>\n",
       "    </tr>\n",
       "  </tbody>\n",
       "</table>\n",
       "</div>"
      ],
      "text/plain": [
       "   PassengerId  Survived  Pclass  \\\n",
       "0            1         0       3   \n",
       "1            2         1       1   \n",
       "2            3         1       3   \n",
       "3            4         1       1   \n",
       "4            5         0       3   \n",
       "\n",
       "                                                Name     Sex   Age  SibSp  \\\n",
       "0                            Braund, Mr. Owen Harris    male  22.0      1   \n",
       "1  Cumings, Mrs. John Bradley (Florence Briggs Th...  female  38.0      1   \n",
       "2                             Heikkinen, Miss. Laina  female  26.0      0   \n",
       "3       Futrelle, Mrs. Jacques Heath (Lily May Peel)  female  35.0      1   \n",
       "4                           Allen, Mr. William Henry    male  35.0      0   \n",
       "\n",
       "   Parch            Ticket     Fare Cabin Embarked PclassSex  PeopleInTicket  \\\n",
       "0      0         A/5 21171   7.2500   NaN        S     3male               1   \n",
       "1      0          PC 17599  71.2833   C85        C   1female               2   \n",
       "2      0  STON/O2. 3101282   7.9250   NaN        S   3female               1   \n",
       "3      0            113803  53.1000  C123        S   1female               2   \n",
       "4      0            373450   8.0500   NaN        S     3male               1   \n",
       "\n",
       "   FarePerPerson  FamilyCount  \n",
       "0        7.25000            2  \n",
       "1       35.64165            2  \n",
       "2        7.92500            1  \n",
       "3       26.55000            2  \n",
       "4        8.05000            1  "
      ]
     },
     "metadata": {},
     "output_type": "display_data"
    },
    {
     "name": "stdout",
     "output_type": "stream",
     "text": [
      "195\n"
     ]
    }
   ],
   "source": [
    "combined=training.append(testing) #in order to find the number of tickets we need to use both training and testing data\n",
    "training['PeopleInTicket']=training['Ticket'].map(combined['Ticket'].value_counts())\n",
    "training['FarePerPerson']=training['Fare']/training['PeopleInTicket']\n",
    "\n",
    "training['FamilyCount']=training['Parch']+training['SibSp']+1\n",
    "\n",
    "pd.set_option(\"display.max_rows\", None, \"display.max_columns\", None)\n",
    "display(training.head())\n",
    "print(len(training[training['FamilyCount'] != training['PeopleInTicket']]))\n",
    "\n",
    "#There are 195 rows where family count doesn't match the number of people in the ticket."
   ]
  },
  {
   "cell_type": "code",
   "execution_count": 23,
   "metadata": {},
   "outputs": [
    {
     "name": "stdout",
     "output_type": "stream",
     "text": [
      "96\n",
      "44\n"
     ]
    }
   ],
   "source": [
    "print(len(training[(training['FarePerPerson']<7.1) & (training['FarePerPerson']>0) \\\n",
    "    & (training['Survived']==0)]))\n",
    "print(len(training[(training['FarePerPerson']<7.1) & (training['FarePerPerson']>0) \\\n",
    "    & (training['Survived']==1)]))"
   ]
  },
  {
   "cell_type": "markdown",
   "metadata": {},
   "source": [
    "this is a significant finding.  Despite people in the lowest ticket bracket having a 95% expiry rate groups of people had a much higher survival rate than individuals.  It will be helpful to look at things with regards to the group size they bring with them"
   ]
  },
  {
   "cell_type": "code",
   "execution_count": 24,
   "metadata": {},
   "outputs": [
    {
     "data": {
      "text/plain": [
       "<AxesSubplot:xlabel='FamilyCount', ylabel='count'>"
      ]
     },
     "execution_count": 24,
     "metadata": {},
     "output_type": "execute_result"
    },
    {
     "data": {
      "image/png": "[encoded data removed]",
      "text/plain": [
       "<Figure size 1152x432 with 1 Axes>"
      ]
     },
     "metadata": {
      "needs_background": "light"
     },
     "output_type": "display_data"
    }
   ],
   "source": [
    "training['GroupSize'] = training[['FamilyCount','PeopleInTicket']].max(axis=1)\n",
    "plt.figure(figsize=(16, 6))\n",
    "sns.countplot(x='FamilyCount', hue='Survived', data=training)"
   ]
  },
  {
   "cell_type": "markdown",
   "metadata": {},
   "source": [
    "This demonstrates the low survival rate of solo travelers on the ship.  Another observation is that traveling with up to 4 is better, but once the group size hits 5 or more the survival rate drops off fully."
   ]
  },
  {
   "cell_type": "code",
   "execution_count": 25,
   "metadata": {},
   "outputs": [
    {
     "name": "stdout",
     "output_type": "stream",
     "text": [
      "Between 2-4 familycount in Pclass 1,2:  179\n",
      "Between 2-4 familycount in Pclass 3:  113\n",
      ">4 familycount in Pclass 1,2:  8\n",
      ">4 familycount in Pclass 3:  54\n"
     ]
    }
   ],
   "source": [
    "print('Between 2-4 familycount in Pclass 1,2: ', len(training[(training.FamilyCount \\\n",
    "        .between(2, 4)) & (training.Pclass.between(1,2))]))\n",
    "print('Between 2-4 familycount in Pclass 3: ',len(training[(training.FamilyCount \\\n",
    "        .between(2, 4)) & (training.Pclass==3)]))\n",
    "print('>4 familycount in Pclass 1,2: ',len(training[(training.FamilyCount>4) & \\\n",
    "        (training.Pclass.between(1,2))]))\n",
    "print('>4 familycount in Pclass 3: ',len(training[(training.FamilyCount>4) & \\\n",
    "        (training.Pclass==3)]))"
   ]
  },
  {
   "cell_type": "code",
   "execution_count": 26,
   "metadata": {},
   "outputs": [
    {
     "data": {
      "text/plain": [
       "<AxesSubplot:xlabel='FamilyCount', ylabel='count'>"
      ]
     },
     "execution_count": 26,
     "metadata": {},
     "output_type": "execute_result"
    },
    {
     "data": {
      "image/png": "[encoded data removed]",
      "text/plain": [
       "<Figure size 1152x432 with 1 Axes>"
      ]
     },
     "metadata": {
      "needs_background": "light"
     },
     "output_type": "display_data"
    },
    {
     "data": {
      "image/png": "[encoded data removed]",
      "text/plain": [
       "<Figure size 1152x432 with 1 Axes>"
      ]
     },
     "metadata": {
      "needs_background": "light"
     },
     "output_type": "display_data"
    }
   ],
   "source": [
    "plt.figure(figsize=(16, 6))\n",
    "sns.countplot(x='FamilyCount', hue='Survived', data=training[(training.FamilyCount > 1)])\n",
    "\n",
    "plt.figure(figsize=(16, 6))\n",
    "sns.countplot(x='FamilyCount',hue='Survived',data=training[(training.Pclass==3) \\\n",
    "        & (training.FamilyCount >1)])"
   ]
  },
  {
   "cell_type": "markdown",
   "metadata": {},
   "source": [
    "This comparison shows the survival rates of groups in class 3.  This shows that besides being solo travelling in a group does not provide much more benefit to survival rates.  Just as a test we should check the survival rates of solo travelers vs the survival rates of genders"
   ]
  },
  {
   "cell_type": "code",
   "execution_count": 27,
   "metadata": {},
   "outputs": [
    {
     "name": "stdout",
     "output_type": "stream",
     "text": [
      "Mortality rate overall:  70 %\n",
      "Mortality rate Male:  84 %\n",
      "Mortality rate Female:  21 %\n"
     ]
    }
   ],
   "source": [
    "print('Mortality rate overall: ', round(len(training[(training.FamilyCount==1) & \\\n",
    "    (training.Survived!=1)]) / len(training[training.FamilyCount==1])*100), '%')\n",
    "\n",
    "print('Mortality rate Male: ', round(len(training[(training.FamilyCount==1) & \\\n",
    "    (training.Survived!=1) & (training.Sex=='male')]) / len(training[(training\\\n",
    "    .FamilyCount==1)& (training.Sex=='male')])*100), '%')\n",
    "\n",
    "print('Mortality rate Female: ', round(len(training[(training.FamilyCount==1) & \\\n",
    "    (training.Survived!=1) & (training.Sex=='female')]) / len(training[(\\\n",
    "    training.FamilyCount==1)& (training.Sex=='female')])*100), '%')\n"
   ]
  },
  {
   "cell_type": "markdown",
   "metadata": {},
   "source": [
    "Since the survival rate of female travelers was already high it will be useful to graph the mortality rates between female solo travelers and group travelers."
   ]
  },
  {
   "cell_type": "code",
   "execution_count": 28,
   "metadata": {},
   "outputs": [
    {
     "data": {
      "text/plain": [
       "<AxesSubplot:xlabel='FamilyCount', ylabel='count'>"
      ]
     },
     "execution_count": 28,
     "metadata": {},
     "output_type": "execute_result"
    },
    {
     "data": {
      "image/png": "[encoded data removed]",
      "text/plain": [
       "<Figure size 1152x432 with 1 Axes>"
      ]
     },
     "metadata": {
      "needs_background": "light"
     },
     "output_type": "display_data"
    }
   ],
   "source": [
    "plt.figure(figsize=(16, 6))\n",
    "sns.countplot(x='FamilyCount',hue='Survived',data=training[(training.Sex=='female') \\\n",
    "    & (training.Pclass==3)])"
   ]
  },
  {
   "cell_type": "markdown",
   "metadata": {},
   "source": [
    "Here we see an intersting find.  The mortality rate for solo females is much less than the mortality rate for non solo females.  Perhaps females with families were less likely to leave without them making solo females more likely to survive. \n",
    "Next we need to investigate the embarked and cabin columns.  These are unlikely to have real effects on survival rates."
   ]
  },
  {
   "cell_type": "code",
   "execution_count": 29,
   "metadata": {},
   "outputs": [
    {
     "name": "stdout",
     "output_type": "stream",
     "text": [
      "                           count      mean\n",
      "CabinLetter Pclass Sex                    \n",
      "A           1      female      1  1.000000\n",
      "                   male       14  0.428571\n",
      "B           1      female     27  1.000000\n",
      "                   male       20  0.400000\n",
      "C           1      female     27  0.888889\n",
      "                   male       32  0.343750\n",
      "D           1      female     16  1.000000\n",
      "                   male       13  0.461538\n",
      "            2      female      2  1.000000\n",
      "                   male        2  0.500000\n",
      "E           1      female     10  1.000000\n",
      "                   male       15  0.533333\n",
      "            2      female      4  0.750000\n",
      "            3      female      1  1.000000\n",
      "                   male        2  1.000000\n",
      "F           2      female      4  1.000000\n",
      "                   male        4  0.750000\n",
      "            3      female      1  1.000000\n",
      "                   male        4  0.000000\n",
      "G           3      female      4  0.500000\n",
      "T           1      male        1  0.000000\n"
     ]
    }
   ],
   "source": [
    "#Column for cabin letter\n",
    "training['CabinLetter'] = training['Cabin'].str[0]\n",
    "\n",
    "#Display cabin info\n",
    "print(training.groupby(['CabinLetter', 'Pclass', 'Sex'])['Survived'].agg(['count', 'mean']))"
   ]
  },
  {
   "cell_type": "markdown",
   "metadata": {},
   "source": [
    "Cabins A, B, and C are all Pclass 1, D, E, and F contain some 2's and E, F, and G contain Pclass 3's.\n",
    "Next comes the embarked column"
   ]
  },
  {
   "cell_type": "code",
   "execution_count": 30,
   "metadata": {},
   "outputs": [
    {
     "name": "stdout",
     "output_type": "stream",
     "text": [
      "          count      mean  size\n",
      "Embarked                       \n",
      "C           168  0.553571   168\n",
      "Q            77  0.389610    77\n",
      "S           644  0.336957   644\n",
      "                 count      mean\n",
      "Embarked Pclass                 \n",
      "C        1          85  0.694118\n",
      "         2          17  0.529412\n",
      "         3          66  0.378788\n",
      "Q        1           2  0.500000\n",
      "         2           3  0.666667\n",
      "         3          72  0.375000\n",
      "S        1         127  0.582677\n",
      "         2         164  0.463415\n",
      "         3         353  0.189802\n"
     ]
    }
   ],
   "source": [
    "print(training.groupby('Embarked')['Survived'].agg(['count','mean', 'size']))\n",
    "#Port C has a high survival rate of 55% maybe less 3rd class individuals were on at this port\n",
    "\n",
    "print(training.groupby(['Embarked', 'Pclass'])['Survived'].agg(['count','mean']))\n",
    "\n",
    "#Since more first class passengers embarked at port C this explains the high survival rate of the port."
   ]
  },
  {
   "cell_type": "markdown",
   "metadata": {},
   "source": [
    "Finally we need to explore the name column.  The only real comparison I can do here is by name length."
   ]
  },
  {
   "cell_type": "code",
   "execution_count": 31,
   "metadata": {},
   "outputs": [
    {
     "data": {
      "text/plain": [
       "<AxesSubplot:xlabel='NameLength', ylabel='count'>"
      ]
     },
     "execution_count": 31,
     "metadata": {},
     "output_type": "execute_result"
    },
    {
     "data": {
      "image/png": "[encoded data removed]",
      "text/plain": [
       "<Figure size 1152x432 with 1 Axes>"
      ]
     },
     "metadata": {
      "needs_background": "light"
     },
     "output_type": "display_data"
    }
   ],
   "source": [
    "#Create column of name lengths\n",
    "training[\"NameLength\"] = training[\"Name\"].apply(len).astype(int)\n",
    "\n",
    "plt.figure(figsize=(16, 6))\n",
    "sns.countplot(x='NameLength', hue='Survived', data=training)\n",
    "\n",
    "#What is intersting about this graph is that people with longer names tended to survive more often than they didn't. In order to explore this it might be helpful to see a few of the names with len > 35.\n",
    "\n",
    "#print(training[training[\"NameLength\"]> 35]) #A long output\n",
    "#Many of these names are females with maiden names.  This is likely the reason for the name/survival relationship.  The males with long names are less likely to survive than the females in this category."
   ]
  },
  {
   "cell_type": "markdown",
   "metadata": {},
   "source": [
    "Having analyized all columns of the data we can draw a few useful conclusions.  Pclass 1 and 2 females almost always survive.  The next reliable indecator is groups.  But not all groups survive as shown earlier.  The key connection is that members within a team have correlated survival.  So it will be helpful to build groups of families on the titanic to use as a good indecator for members which are not female.  First I should fill in some missing values and then create the groupings which will be useful when training. "
   ]
  }
 ],
 "metadata": {
  "kernelspec": {
   "display_name": "Python 3",
   "language": "python",
   "name": "python3"
  },
  "language_info": {
   "codemirror_mode": {
    "name": "ipython",
    "version": 3
   },
   "file_extension": ".py",
   "mimetype": "text/x-python",
   "name": "python",
   "nbconvert_exporter": "python",
   "pygments_lexer": "ipython3",
   "version": "3.8.5"
  }
 },
 "nbformat": 4,
 "nbformat_minor": 4
}
